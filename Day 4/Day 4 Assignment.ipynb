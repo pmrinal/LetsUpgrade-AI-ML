{
 "cells": [
  {
   "cell_type": "markdown",
   "metadata": {},
   "source": [
    "### Question 1 :\n",
    "Research on whether addition, subtraction, multiplication, division, floor division and modulo\n",
    "operations be performed on complex numbers. Based on your study, implement a Python\n",
    "program to demonstrate these operations.\n",
    "\n",
    "\n",
    "\n"
   ]
  },
  {
   "cell_type": "code",
   "execution_count": 2,
   "metadata": {},
   "outputs": [
    {
     "name": "stdout",
     "output_type": "stream",
     "text": [
      "Addition of two complex number = (9+21j)\n",
      "Subtraction of two complex number = (-3-9j)\n",
      "Multiplication of two complex number = (-72+81j)\n",
      "Division of two complex number = (0.4137931034482759-0.03448275862068964j)\n"
     ]
    }
   ],
   "source": [
    "c1 = 3 + 6j\n",
    "\n",
    "c2 = 6 + 15j\n",
    "\n",
    "#Addition\n",
    "print(\"Addition of two complex number =\", c1 + c2)\n",
    "\n",
    "#Subtraction\n",
    "print(\"Subtraction of two complex number =\", c1 - c2)\n",
    "\n",
    " #Multiplication\n",
    "print(\"Multiplication of two complex number =\", c1 * c2)\n",
    "\n",
    "#Division\n",
    "print(\"Division of two complex number =\", c1 / c2)"
   ]
  },
  {
   "cell_type": "markdown",
   "metadata": {},
   "source": [
    "### Question 2 :\n",
    "Research on range() functions and its parameters. Create a markdown cell and write in your own\n",
    "words (no copy-paste from google please) what you understand about it. Implement a small\n",
    "program of your choice on the same."
   ]
  },
  {
   "cell_type": "markdown",
   "metadata": {},
   "source": [
    "range() funciton basically execute data between two number in range.\n",
    "There are three way you can execute.\n",
    "1. range(10) - here range is from 0 to 10 - it will return 0 to 9 numbers\n",
    "2. range(2,5) - it will return 2,3,4\n",
    "3. range(1,10,2) - it will return data from 1 to 9 but with 1 number interval"
   ]
  },
  {
   "cell_type": "code",
   "execution_count": 3,
   "metadata": {},
   "outputs": [
    {
     "name": "stdout",
     "output_type": "stream",
     "text": [
      "Enter the value: 10\n",
      "0\n",
      "1\n",
      "2\n",
      "3\n",
      "4\n",
      "5\n",
      "6\n",
      "7\n",
      "8\n",
      "9\n"
     ]
    }
   ],
   "source": [
    "x = int(input('Enter the value: '))\n",
    "for i in range(x):\n",
    "    print(i)"
   ]
  },
  {
   "cell_type": "markdown",
   "metadata": {},
   "source": [
    "### Question 3:\n",
    "Consider two numbers. Perform their subtraction and if the result of subtraction is greater than\n",
    "25, print their multiplication result else print their division result."
   ]
  },
  {
   "cell_type": "code",
   "execution_count": 5,
   "metadata": {},
   "outputs": [
    {
     "name": "stdout",
     "output_type": "stream",
     "text": [
      "Enter the value for x: 80\n",
      "Enter the value for y: 60\n"
     ]
    }
   ],
   "source": [
    "x= int(input('Enter the value for x: '))\n",
    "y = int(input('Enter the value for y: '))\n",
    "\n",
    "if (x-y> 50):\n",
    "    print(x*y)\n",
    "else:\n",
    "    pass"
   ]
  },
  {
   "cell_type": "markdown",
   "metadata": {},
   "source": [
    "### Question 4:\n",
    "Consider a list of 10 elements of integer values. If the number in the list is divisible by 2, print the\n",
    "result as \"square of that number minus 2\"."
   ]
  },
  {
   "cell_type": "code",
   "execution_count": 12,
   "metadata": {},
   "outputs": [
    {
     "name": "stdout",
     "output_type": "stream",
     "text": [
      "34\n",
      "4354\n",
      "482\n",
      "14\n",
      "7742\n",
      "142\n",
      "3134\n",
      "8098\n"
     ]
    }
   ],
   "source": [
    "x = [6,5,66,22,77,4,88,12,56,90]\n",
    "for i in x:\n",
    "    i = int(i)\n",
    "    if (i%2==0):\n",
    "        print(i**2 -2)\n",
    "    else:\n",
    "        pass\n",
    "   \n",
    "\n"
   ]
  },
  {
   "cell_type": "markdown",
   "metadata": {},
   "source": [
    "### Question 5:\n",
    "Consider a list of 10 elements. Print all the elements in the list which are greater than 7 when that\n",
    "number is divided 2."
   ]
  },
  {
   "cell_type": "code",
   "execution_count": 13,
   "metadata": {},
   "outputs": [
    {
     "name": "stdout",
     "output_type": "stream",
     "text": [
      "66\n",
      "22\n",
      "77\n",
      "88\n",
      "56\n",
      "90\n"
     ]
    }
   ],
   "source": [
    "x = [6,5,66,22,77,4,88,12,56,90]\n",
    "for i in x:\n",
    "    i = int(i)\n",
    "    if (i/2 > 7):\n",
    "        print(i)\n",
    "    else:\n",
    "        pass"
   ]
  },
  {
   "cell_type": "code",
   "execution_count": null,
   "metadata": {},
   "outputs": [],
   "source": []
  }
 ],
 "metadata": {
  "kernelspec": {
   "display_name": "Python 3",
   "language": "python",
   "name": "python3"
  },
  "language_info": {
   "codemirror_mode": {
    "name": "ipython",
    "version": 3
   },
   "file_extension": ".py",
   "mimetype": "text/x-python",
   "name": "python",
   "nbconvert_exporter": "python",
   "pygments_lexer": "ipython3",
   "version": "3.7.6"
  }
 },
 "nbformat": 4,
 "nbformat_minor": 4
}
